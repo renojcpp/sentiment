{
 "cells": [
  {
   "cell_type": "markdown",
   "metadata": {},
   "source": [
    "# Selenium tutorial"
   ]
  },
  {
   "cell_type": "markdown",
   "metadata": {},
   "source": [
    "## necessary libraries and variables"
   ]
  },
  {
   "cell_type": "code",
   "execution_count": 30,
   "metadata": {},
   "outputs": [],
   "source": [
    "\n",
    "from selenium import webdriver\n",
    "from selenium.webdriver.chrome.options import Options\n",
    "from selenium.webdriver.common.by import By\n",
    "from selenium.webdriver.support.ui import WebDriverWait\n",
    "from selenium.webdriver.support import expected_conditions as EC\n",
    "from selenium.webdriver.common.keys import Keys\n",
    "from parsel import Selector\n",
    "import time\n"
   ]
  },
  {
   "cell_type": "markdown",
   "metadata": {},
   "source": [
    "## Running it in headless mode"
   ]
  },
  {
   "cell_type": "code",
   "execution_count": 31,
   "metadata": {},
   "outputs": [],
   "source": [
    "# configure webdriver\n",
    "options = Options()\n",
    "options.headless = True  # hide GUI\n",
    "options.add_argument(\"--window-size=1920,1080\")  # set window size to native GUI size\n",
    "options.add_argument(\"start-maximized\")  # ensure window is full-screen"
   ]
  },
  {
   "cell_type": "code",
   "execution_count": null,
   "metadata": {},
   "outputs": [],
   "source": [
    "\n",
    "driver = webdriver.Chrome(options=options)\n",
    "\n",
    "driver.get(\"https://www.twitch.tv/directory/game/Art\")\n",
    "element = WebDriverWait(driver=driver, timeout=5).until(\n",
    "    EC.presence_of_element_located((By.CSS_SELECTOR, 'div[data-target=directory-first-item]'))\n",
    ")\n"
   ]
  },
  {
   "cell_type": "markdown",
   "metadata": {},
   "source": [
    "![twitch](twitch.png)"
   ]
  },
  {
   "cell_type": "markdown",
   "metadata": {},
   "source": [
    "## dynamic data"
   ]
  },
  {
   "cell_type": "code",
   "execution_count": 33,
   "metadata": {},
   "outputs": [],
   "source": [
    "sel = Selector(text=driver.page_source)\n",
    "parsed = []\n",
    "for item in sel.xpath(\"//div[contains(@class,'tw-tower')]/div[@data-target]\"):\n",
    "    parsed.append({\n",
    "        'title': item.css('h3::text').get(),\n",
    "        'url': item.css('.tw-link::attr(href)').get(),\n",
    "        'username': item.css('.tw-link::text').get(),\n",
    "        'tags': item.css('.tw-tag ::text').getall(),\n",
    "        'viewers': ''.join(item.css('.tw-media-card-stat::text').re(r'(\\d+)')),\n",
    "    })\n"
   ]
  },
  {
   "cell_type": "code",
   "execution_count": 34,
   "metadata": {},
   "outputs": [
    {
     "data": {
      "text/plain": [
       "[{'title': 'A Happy Little Weekend Marathon!',\n",
       "  'url': '/bobross',\n",
       "  'username': None,\n",
       "  'tags': ['English'],\n",
       "  'viewers': '1'},\n",
       " {'title': 'I AM NOT A GOOD ARTIST BUT I TRY :) -!Socials !Glitch !YT2',\n",
       "  'url': '/larryfishburger',\n",
       "  'username': None,\n",
       "  'tags': ['Ally', 'amongus', 'Community'],\n",
       "  'viewers': '186'},\n",
       " {'title': 'Comfy 3D Stream uwu 🌈✨ [🐾 Furry VRChat Avatar] ✦ [CC] ✦ [18+]',\n",
       "  'url': '/andre_moraph',\n",
       "  'username': None,\n",
       "  'tags': ['18plus', 'VTuber', 'Furry', 'English'],\n",
       "  'viewers': '236'},\n",
       " {'title': 'Snow Day! Work Cancelled, so Streaming some Dinovember Art! !dinovember !discord !socials !kofi',\n",
       "  'url': '/kaseysnowart',\n",
       "  'username': None,\n",
       "  'tags': ['Painting', 'English', 'FamilyFriendly'],\n",
       "  'viewers': '56'},\n",
       " {'title': '[#699] EXTRA NICE. working on art i owe :3c;;;;;; 🌷 !tols !kofi !throne !discord !socials',\n",
       "  'url': '/maia',\n",
       "  'username': None,\n",
       "  'tags': ['FREAK', 'theythem', 'anime'],\n",
       "  'viewers': '156'},\n",
       " {'title': 'IWS Illustrated Masters - Round 1',\n",
       "  'url': '/illustratedworldseries',\n",
       "  'username': None,\n",
       "  'tags': ['art', 'manga', 'PixelArt'],\n",
       "  'viewers': '2'},\n",
       " {'title': '🟣[Episode 872] GIRLS GIRLS GIRLS GIRLS GIRLS GIRLS [ENG/CC]|!merch !comms',\n",
       "  'url': '/oceonax',\n",
       "  'username': None,\n",
       "  'tags': ['Anime', 'LurkerFriendly', 'VTuber'],\n",
       "  'viewers': '113'},\n",
       " {'title': 'ART AND VIBES',\n",
       "  'url': '/alexandria',\n",
       "  'username': None,\n",
       "  'tags': ['Vtuber', 'LGBTQIAPlus', 'English'],\n",
       "  'viewers': '107'},\n",
       " {'title': 'SUB MS PAINT PORTRAITS || Losing my job Nov 30 || SUB A THON DAY 3 || !subgoals !schedule 🦷 !tangia for AI TTS  🦷',\n",
       "  'url': '/doodybeard',\n",
       "  'username': None,\n",
       "  'tags': ['LurkerFriendly', 'Interactive'],\n",
       "  'viewers': '58'},\n",
       " {'title': 'I can take em... in a fight, right?',\n",
       "  'url': '/the_eggroller',\n",
       "  'username': None,\n",
       "  'tags': ['femboy', 'Egg', 'lewdtuber'],\n",
       "  'viewers': '49'},\n",
       " {'title': 'short work',\n",
       "  'url': '/greypidjun',\n",
       "  'username': None,\n",
       "  'tags': ['Anime', 'English', 'Illustration'],\n",
       "  'viewers': '77'},\n",
       " {'title': '🍃 arting and animating PNGtubers later |･ω･) [ENVtuber] 🍃 !discord !song !for',\n",
       "  'url': '/madammito',\n",
       "  'username': None,\n",
       "  'tags': ['Vtuber', 'ComfyChaotic', 'Anime'],\n",
       "  'viewers': '55'},\n",
       " {'title': 'Circus Animal Draw-Along ~ Hype Train Circus RETURNS! ~ Cartoon Therapy',\n",
       "  'url': '/cartoontherapy',\n",
       "  'username': None,\n",
       "  'tags': ['CozyChaos', 'Comedy', 'advice'],\n",
       "  'viewers': '82'},\n",
       " {'title': 'DISEGNO DRAGON BALL !regole !sub !dona !discord !prime !patreon !spotify !build',\n",
       "  'url': '/kasumisen',\n",
       "  'username': None,\n",
       "  'tags': ['Italiano'],\n",
       "  'viewers': '569'},\n",
       " {'title': 'Working on a trade piece and commissions',\n",
       "  'url': '/lilairaartstudio',\n",
       "  'username': None,\n",
       "  'tags': ['artist', 'lilaira', 'vernid', 'furry'],\n",
       "  'viewers': '45'},\n",
       " {'title': '🔞F hent*i artist working on juicy fanart │ !uwu !social │ VTUBER',\n",
       "  'url': '/sheekiyomi',\n",
       "  'username': None,\n",
       "  'tags': ['Anime', 'Vtuber', 'English'],\n",
       "  'viewers': '117'},\n",
       " {'title': 'SECOND TRY POWER OUTAGE POP UP | !event !fullyferal !calpals !patreon',\n",
       "  'url': '/artinjest',\n",
       "  'username': None,\n",
       "  'tags': ['DigitalArt', 'Crayons'],\n",
       "  'viewers': '42'},\n",
       " {'title': 'Free your mind - Art Grind. / Project stuff / Teaching random Art Stuff',\n",
       "  'url': '/blankart_',\n",
       "  'username': None,\n",
       "  'tags': ['art', 'illustration', 'gamedev'],\n",
       "  'viewers': '71'},\n",
       " {'title': '[18+] ✩₊°. crimmas colooorriingg °₊✧',\n",
       "  'url': '/tixee',\n",
       "  'username': None,\n",
       "  'tags': ['neurodivergent', 'bisexual', 'adhd'],\n",
       "  'viewers': '58'},\n",
       " {'title': '✨NPC Model Work ✨ Chill and Hang',\n",
       "  'url': '/motherlyra',\n",
       "  'username': None,\n",
       "  'tags': ['vrchatstreamer', 'FracturedThrones'],\n",
       "  'viewers': '49'},\n",
       " {'title': 'posomo mail time!',\n",
       "  'url': '/tyjiro',\n",
       "  'username': None,\n",
       "  'tags': ['animation', 'AsianAmerican'],\n",
       "  'viewers': '97'},\n",
       " {'title': '🌠MAKING THE LION!🌠 | !SHOP !THRONE🌠',\n",
       "  'url': '/nsomniaksdream',\n",
       "  'username': None,\n",
       "  'tags': ['traditionalartist', 'adhd', 'art'],\n",
       "  'viewers': '46'},\n",
       " {'title': '[ENG] Illustration: Beach Murdim - Look respectfully! Happy bloody friday! | !instagram !discord',\n",
       "  'url': '/michimyers',\n",
       "  'username': None,\n",
       "  'tags': ['AMA', 'art', 'Illustration', 'English'],\n",
       "  'viewers': '82'},\n",
       " {'title': '●☕SKETCHING 402 PANELS🎨●',\n",
       "  'url': '/gebsart',\n",
       "  'username': None,\n",
       "  'tags': ['español', 'manga', 'Illustration'],\n",
       "  'viewers': '23'},\n",
       " {'title': 'Live2D Marathon Comfy Yapper Edition | Live2D Rigging Model for @Ryleigh_Ch | Cyberpunk Vtuber Waifu!',\n",
       "  'url': '/kyuuon',\n",
       "  'username': None,\n",
       "  'tags': ['Live2D', 'Anime', 'Vtuber', 'Artist'],\n",
       "  'viewers': '28'},\n",
       " {'title': '[EN/Fil/Spa]  Making spooky tamagotchis // !tico !website',\n",
       "  'url': '/ticoyaki',\n",
       "  'username': None,\n",
       "  'tags': ['CoWorking', 'vtuber', 'Español'],\n",
       "  'viewers': '92'},\n",
       " {'title': 'modeeeeeeeeeeellllllllll|  !throne !model !tools !etsy',\n",
       "  'url': '/aeriselle',\n",
       "  'username': None,\n",
       "  'tags': ['Fanart', 'English', 'Asian'],\n",
       "  'viewers': '23'},\n",
       " {'title': 'CHAOTIC DRAW ALONG!  Prompt:  DUCK UNDERPANTS or MOBSTER SOCK PUPPET  Draw with us!!  !cda !chaoticdrawalong !discord',\n",
       "  'url': '/anthonywheelerart',\n",
       "  'username': None,\n",
       "  'tags': ['digitalart', 'art', 'TraditionalArt'],\n",
       "  'viewers': '107'},\n",
       " {'title': '💠 the horrors persist but so do the little treats',\n",
       "  'url': '/revy47_',\n",
       "  'username': None,\n",
       "  'tags': ['Chilled', 'art', 'English'],\n",
       "  'viewers': '15'},\n",
       " {'title': '3D MODELINGෆBLENDER GIRL !SUB !DISCORD',\n",
       "  'url': '/cocoellean',\n",
       "  'username': None,\n",
       "  'tags': ['sims4', 'CoStream', 'cocogames'],\n",
       "  'viewers': '36'}]"
      ]
     },
     "execution_count": 34,
     "metadata": {},
     "output_type": "execute_result"
    }
   ],
   "source": [
    "parsed"
   ]
  },
  {
   "cell_type": "markdown",
   "metadata": {},
   "source": [
    "## advanced"
   ]
  },
  {
   "cell_type": "code",
   "execution_count": 35,
   "metadata": {},
   "outputs": [],
   "source": [
    "search_box = driver.find_element(By.CSS_SELECTOR, 'input[aria-label=\"Search Input\"]') \n",
    "search_box.send_keys(\n",
    "    'fast painting'\n",
    ")\n",
    "# either press the enter key\n",
    "search_box.send_keys(Keys.ENTER)\n"
   ]
  },
  {
   "cell_type": "markdown",
   "metadata": {},
   "source": [
    "![search](search.png)"
   ]
  },
  {
   "cell_type": "markdown",
   "metadata": {},
   "source": [
    "## scrollIntoView test"
   ]
  },
  {
   "cell_type": "code",
   "execution_count": null,
   "metadata": {},
   "outputs": [],
   "source": [
    "# twitch has changed greatly since this tutoral was made, so i picked an arbitrary element. this scrolled the view to the bottom though on my machine\n",
    "driver.execute_script(\"\"\"\n",
    "let items=document.querySelectorAll('h2');\n",
    "items[items.length-1].scrollIntoView();\n",
    "\"\"\")"
   ]
  },
  {
   "cell_type": "markdown",
   "metadata": {},
   "source": [
    "![scroll](scroll.png)"
   ]
  },
  {
   "cell_type": "markdown",
   "metadata": {},
   "source": []
  }
 ],
 "metadata": {
  "kernelspec": {
   "display_name": "scrape",
   "language": "python",
   "name": "python3"
  },
  "language_info": {
   "codemirror_mode": {
    "name": "ipython",
    "version": 3
   },
   "file_extension": ".py",
   "mimetype": "text/x-python",
   "name": "python",
   "nbconvert_exporter": "python",
   "pygments_lexer": "ipython3",
   "version": "3.12.7"
  }
 },
 "nbformat": 4,
 "nbformat_minor": 2
}
